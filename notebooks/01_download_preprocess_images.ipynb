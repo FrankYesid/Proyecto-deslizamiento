{
 "cells": [
  {
   "cell_type": "markdown",
   "metadata": {},
   "source": [
    "# Descarga y Preprocesamiento de Imágenes Satelitales\n",
    "\n",
    "Este notebook muestra cómo descargar imágenes satelitales y prepararlas para el entrenamiento de modelos de clasificación."
   ]
  },
  {
   "cell_type": "code",
   "execution_count": null,
   "metadata": {},
   "source": [
    "import os\n",
    "import requests\n",
    "from pathlib import Path\n",
    "from PIL import Image\n",
    "import numpy as np\n",
    "import matplotlib.pyplot as plt\n",
    "\n",
    "# Configuración\n",
    "DATA_DIR = Path("data")\n",
    "IMAGES_DIR = DATA_DIR / "raw_images"\n",
    "PROCESSED_DIR = DATA_DIR / "processed_images"\n",
    "\n",
    "# Crear directorios\n",
    "DATA_DIR.mkdir(exist_ok=True)\n",
    "IMAGES_DIR.mkdir(exist_ok=True)\n",
    "PROCESSED_DIR.mkdir(exist_ok=True)"
   ]
  },
  {
   "cell_type": "code",
   "execution_count": null,
   "metadata": {},
   "source": [
    "# URLs de ejemplo de imágenes satelitales\n",
    "sample_urls = [\n",
    "    \"https://eoimages.gsfc.nasa.gov/images/imagerecords/73000/73751/world.topo.bathy.200407.3x5400x2700.jpg\",\n",
    "    \"https://eoimages.gsfc.nasa.gov/images/imagerecords/73000/73751/world.topo.bathy.200407.3x5400x2700.png\",\n",
    "    \"https://eoimages.gsfc.nasa.gov/images/imagerecords/73000/73751/world.topo.bathy.200407.3x5400x2700.tiff\"\n",
    "]\n",
    "\n",
    "def download_image(url, output_dir):\n",
    "    try:\n",
    "        response = requests.get(url)\n",
    "        response.raise_for_status()\n",
    "        filename = os.path.basename(url)\n",
    "        filepath = output_dir / filename\n",
    "        with open(filepath, 'wb') as f:\n",
    "            f.write(response.content)\n",
    "        print(f\"Descargada: {filename}\")\n",
    "        return filepath\n",
    "    except Exception as e:\n",
    "        print(f\"Error al descargar {url}: {str(e)}\")\n",
    "        return None\n",
    "\n",
    "# Descargar imágenes\n",
    "for url in sample_urls:\n",
    "    download_image(url, IMAGES_DIR)"
   ]
  },
  {
   "cell_type": "code",
   "execution_count": null,
   "metadata": {},
   "source": [
    "# Función de preprocesamiento\n",
    "def preprocess_image(image_path, target_size=(256, 256)):\n",
    "    try:\n",
    "        img = Image.open(image_path)\n",
    "        img = img.resize(target_size)\n",
    "        img = img.convert('RGB')\n",
    "        img_array = np.array(img)\n",
    "        img_array = img_array / 255.0  # Normalización\n",
    "        return img_array\n",
    "    except Exception as e:\n",
    "        print(f\"Error al procesar {image_path}: {str(e)}\")\n",
    "        return None\n",
    "\n",
    "# Procesar todas las imágenes\n",
    "for image_path in IMAGES_DIR.glob('*'):\n",
    "    if image_path.is_file():\n",
    "        processed = preprocess_image(image_path)\n",
    "        if processed is not None:\n",
    "            output_path = PROCESSED_DIR / image_path.name\n",
    "            plt.imsave(output_path, processed)"
   ]
  }
 ],
 "metadata": {
  "kernelspec": {
   "display_name": "Python 3",
   "language": "python",
   "name": "python3"
  },
  "language_info": {
   "codemirror_mode": {
    "name": "ipython",
    "version": 3
   },
   "file_extension": ".py",
   "mimetype": "text/x-python",
   "name": "python",
   "nbconvert_exporter": "python",
   "pygments_lexer": "ipython3",
   "version": "3.9.0"
  }
 },
 "nbformat": 4,
 "nbformat_minor": 4
}
