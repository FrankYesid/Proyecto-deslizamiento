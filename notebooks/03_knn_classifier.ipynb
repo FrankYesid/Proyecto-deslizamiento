{
 "cells": [
  {
   "cell_type": "markdown",
   "metadata": {},
   "source": [
    "# Clasificador K-Nearest Neighbors (KNN) para Imágenes Satelitales\n",
    "\n",
    "Este notebook implementa un clasificador KNN para clasificar imágenes satelitales."
   ]
  },
  {
   "cell_type": "code",
   "execution_count": null,
   "metadata": {},
   "source": [
    "import numpy as np\n",
    "import pandas as pd\n",
    "from sklearn.model_selection import train_test_split\n",
    "from sklearn.preprocessing import StandardScaler\n",
    "from sklearn.neighbors import KNeighborsClassifier\n",
    "from sklearn.metrics import classification_report, confusion_matrix\n",
    "from PIL import Image\n",
    "import os\n",
    "from pathlib import Path\n",
    "\n",
    "# Configuración\n",
    "DATA_DIR = Path("data")\n",
    "PROCESSED_DIR = DATA_DIR / "processed_images"\n",
    "\n",
    "# Definir clases de terreno\n",
    "CLASSES = {\n",
    "    0: 'urbano',\n",
    "    1: 'bosque',\n",
    "    2: 'agua',\n",
    "    3: 'desierto'\n",
    "}"
   ]
  },
  {
   "cell_type": "code",
   "execution_count": null,
   "metadata": {},
   "source": [
    "# Función para extraer características\n",
    "def extract_features(image_path):\n",
    "    img = Image.open(image_path)\n",
    "    img_array = np.array(img)\n",
    "    \n",
    "    # Características basadas en histogramas\n",
    "    features = []\n",
    "    for channel in range(3):  # RGB channels\n",
    "        hist, _ = np.histogram(img_array[:, :, channel].flatten(), bins=256, range=[0, 256])\n",
    "        features.extend(hist)\n",
    "    \n",
    "    return np.array(features)\n",
    "\n",
    "# Crear dataset\n",
    "X = []\n",
    "y = []\n",
    "\n",
    "# Aquí deberías tener una lista de imágenes con sus etiquetas\n",
    "# Para cada imagen, extraer características y etiquetas\n",
    "for image_path in PROCESSED_DIR.glob('*'):\n",
    "    features = extract_features(image_path)\n",
    "    X.append(features)\n",
    "    # Aquí deberías obtener la etiqueta correspondiente\n    "
   ]
  },
  {
   "cell_type": "code",
   "execution_count": null,
   "metadata": {},
   "source": [
    "# Convertir a numpy arrays\n",
    "X = np.array(X)\n",
    "y = np.array(y)\n",
    "\n",
    "# Dividir el dataset\n",
    "X_train, X_test, y_train, y_test = train_test_split(X, y, test_size=0.2, random_state=42)\n",
    "\n",
    "# Escalar características\n",
    "scaler = StandardScaler()\n",
    "X_train_scaled = scaler.fit_transform(X_train)\n",
    "X_test_scaled = scaler.transform(X_test)\n",
    "\n",
    "# Entrenar clasificador KNN\n",
    "knn = KNeighborsClassifier(n_neighbors=5)\n",
    "knn.fit(X_train_scaled, y_train)\n",
    "\n",
    "# Evaluar\n",
    "y_pred = knn.predict(X_test_scaled)\n",
    "print('\nMatriz de confusión:\n', confusion_matrix(y_test, y_pred))\n",
    "print('\nReporte de clasificación:\n', classification_report(y_test, y_pred))\n",
    "\n",
    "# Encontrar mejor k\n",
    "from sklearn.model_selection import GridSearchCV\n",
    "param_grid = {'n_neighbors': range(1, 21)}\n",
    "grid = GridSearchCV(KNeighborsClassifier(), param_grid, cv=5)\n",
    "grid.fit(X_train_scaled, y_train)\n",
    "print('\nMejor k:', grid.best_params_)\n",
    "print('Mejor score:', grid.best_score_)"
   ]
  }
 ],
 "metadata": {
  "kernelspec": {
   "display_name": "Python 3",
   "language": "python",
   "name": "python3"
  },
  "language_info": {
   "codemirror_mode": {
    "name": "ipython",
    "version": 3
   },
   "file_extension": ".py",
   "mimetype": "text/x-python",
   "name": "python",
   "nbconvert_exporter": "python",
   "pygments_lexer": "ipython3",
   "version": "3.9.0"
  }
 },
 "nbformat": 4,
 "nbformat_minor": 4
}
